{
 "cells": [
  {
   "cell_type": "code",
   "execution_count": null,
   "id": "9a2e431b-c76e-468b-be6c-8307790f1e53",
   "metadata": {},
   "outputs": [],
   "source": [
    "import pandas as pd\n",
    "import numpy as np\n",
    "data= pd.read_excel(\"Basic_Econometrics_practice_data.xlsx\", sheet_name= 'US_CobbDauglas')\n",
    "data= data[data.columns[1:4]]\n",
    "data= np.log(data)\n",
    "data.columns= ['ln_Y', 'ln_L', 'ln_K']\n",
    "data.head()"
   ]
  },
  {
   "cell_type": "code",
   "execution_count": null,
   "id": "ed9a0a4d-6053-4737-8489-c8a8e556b6c9",
   "metadata": {},
   "outputs": [],
   "source": [
    "import statsmodels.api as sm\n",
    "X= data[['ln_L', 'ln_K']]\n",
    "Y= data['ln_Y']\n",
    "X= sm.add_constant(X)\n"
   ]
  },
  {
   "cell_type": "code",
   "execution_count": null,
   "id": "1e8e4e5f-96c9-4471-b465-a76ab3c44634",
   "metadata": {},
   "outputs": [],
   "source": [
    "# Run the OLS using python\n",
    "model= sm.OLS(Y,X).fit()\n",
    "print_model= model.summary()\n",
    "print(print_model)"
   ]
  },
  {
   "cell_type": "code",
   "execution_count": null,
   "id": "64470d1b-6338-4a49-9348-a36c61993b84",
   "metadata": {},
   "outputs": [],
   "source": [
    "# calculation of beta using formula and comparing with the model estimated above\n",
    "beta_hat=(np.linalg.inv(X.T@X))@(X.T@Y)\n",
    "beta_hat"
   ]
  },
  {
   "cell_type": "code",
   "execution_count": null,
   "id": "d19df99d-05f9-49c3-8f9d-2c56508deea0",
   "metadata": {},
   "outputs": [],
   "source": [
    "X_beta= X@beta_hat"
   ]
  },
  {
   "cell_type": "code",
   "execution_count": null,
   "id": "91980a32-8133-48bb-a70e-61c3cbb01fea",
   "metadata": {},
   "outputs": [],
   "source": [
    "# Compute residuals\n",
    "e= Y -X_beta\n",
    "n,k= X.shape # to get n= no. of observation, k= no. of parameters\n"
   ]
  },
  {
   "cell_type": "code",
   "execution_count": null,
   "id": "8a21ff5f-2d4b-449c-9096-ac6e1fe676a2",
   "metadata": {},
   "outputs": [],
   "source": [
    "# compute variance covariance matrix of beta\n",
    "var_beta=  ((e.T @ e)/(n-k))* np.linalg.inv((X.T @ X)/n)\n",
    "var_beta"
   ]
  },
  {
   "cell_type": "code",
   "execution_count": null,
   "id": "b624fade-3f1e-4458-8deb-bc8165fd011e",
   "metadata": {},
   "outputs": [],
   "source": [
    "# Calculate t statistic\n",
    "se_1= np.sqrt(var_beta[0,0]/n)\n",
    "se_2= np.sqrt(var_beta[1,1]/n)\n",
    "se_3= np.sqrt(var_beta[2,2]/n)\n",
    "[se_1, se_2, se_3]"
   ]
  },
  {
   "cell_type": "code",
   "execution_count": null,
   "id": "f4ec20cb-0c9b-4258-a9a9-f04ec31c2625",
   "metadata": {},
   "outputs": [],
   "source": [
    "t_1 = beta_hat[0]/se_1\n",
    "t_2 = beta_hat[1]/se_2\n",
    "t_3 = beta_hat[2]/se_3\n",
    "print(t_1, t_2, t_3)"
   ]
  },
  {
   "cell_type": "code",
   "execution_count": null,
   "id": "0a9d5ce0-f9a7-4238-a8c0-57ce8de95d87",
   "metadata": {},
   "outputs": [],
   "source": [
    "# confidence interval\n",
    "# confidence interval of beta 0\n",
    "ci_1= [beta_hat[0] - (1.96* se_1), beta_hat[0] + (1.96* se_1)]\n",
    "ci_2= [beta_hat[1] - (1.96* se_2), beta_hat[1] + (1.96* se_2)]\n",
    "ci_3= [beta_hat[2] - (1.96* se_3), beta_hat[2] + (1.96* se_3)]\n",
    "ci_1, ci_2, ci_3"
   ]
  },
  {
   "cell_type": "code",
   "execution_count": null,
   "id": "a57f7439-8842-4221-82e4-4ee5fda83304",
   "metadata": {},
   "outputs": [],
   "source": [
    "v= np.diag(var_beta)\n",
    "v_1= np.diag(v)\n",
    "v_1"
   ]
  },
  {
   "cell_type": "code",
   "execution_count": null,
   "id": "0d1ee4c5-d58b-453d-8717-4f792a18e3cd",
   "metadata": {},
   "outputs": [],
   "source": [
    "# Wald statistic. beta_1= beta_2= beta_3 = 0\n",
    "T = n* ((beta_hat.T) @ np.linalg.inv(v_1) @ (beta_hat))\n",
    "print(T)"
   ]
  },
  {
   "cell_type": "code",
   "execution_count": null,
   "id": "72ffb299-8395-4511-b303-fa7938d9e7a0",
   "metadata": {},
   "outputs": [],
   "source": [
    "# Wald statistic. beta_2 = beta_3 =0\n",
    "R= np.array([[0,1,0],[0,0,1]])\n",
    "r = np.array([0, 0])\n",
    "Rb=R@beta_hat-r\n",
    "wald_stat_2= n*((R@beta_hat-r).T) @ np.linalg.inv(R@var_beta@R.T) @ (R@beta_hat-r)\n",
    "wald_stat_2\n"
   ]
  },
  {
   "cell_type": "code",
   "execution_count": null,
   "id": "a392be99-abe4-4d77-8d62-3deff7ce3f9b",
   "metadata": {},
   "outputs": [],
   "source": [
    "#\n",
    "R1= np.array([[1,0,0],[0,1,0],[0,0,1]])\n",
    "r= np.array([0,0,0])\n",
    "w = n*((R1@beta_hat-r).T)@ np.linalg.inv(R1@v_1@R1.T) @(R1@beta_hat-r)\n",
    "w"
   ]
  },
  {
   "cell_type": "code",
   "execution_count": null,
   "id": "7fe3eb26-2bca-4515-a8b6-659218db1009",
   "metadata": {},
   "outputs": [],
   "source": [
    "# wald statistic. beta2+beta3=1\n",
    "R2= np.array([[0,1,1]])\n",
    "\n",
    "W= n*((R2@beta_hat-1).T) @ np.linalg.inv(R2@var_beta@R2.T) @ (R2@beta_hat-1)\n",
    "W\n"
   ]
  },
  {
   "cell_type": "code",
   "execution_count": null,
   "id": "41f73e2a-907f-4d5d-9384-7702745bd031",
   "metadata": {},
   "outputs": [],
   "source": [
    "import numpy as np\n",
    "import matplotlib.pyplot as plt\n",
    "import pandas as pd"
   ]
  },
  {
   "cell_type": "code",
   "execution_count": null,
   "id": "943212b4-4ee0-4518-80e2-1a0ac652c86b",
   "metadata": {},
   "outputs": [],
   "source": [
    "import statsmodels.api as sm"
   ]
  },
  {
   "cell_type": "code",
   "execution_count": null,
   "id": "75ec5647-a3f6-4d5b-b5bc-359db28c9f3b",
   "metadata": {},
   "outputs": [],
   "source": [
    "df = pd.read_excel(\"Basic_Econometrics_practice_data.xlsx\", sheet_name =\"US_CobbDauglas\")"
   ]
  },
  {
   "cell_type": "code",
   "execution_count": null,
   "id": "76e037f1-31cd-47f7-a7ed-b7a8277ab734",
   "metadata": {},
   "outputs": [],
   "source": [
    "df.head()"
   ]
  },
  {
   "cell_type": "code",
   "execution_count": null,
   "id": "c625b3a1-51e0-485c-b4b9-43500890faa1",
   "metadata": {},
   "outputs": [],
   "source": [
    "df = df[df.columns[1:4]]\n",
    "df = np.log(df)\n",
    "df.columns = [\"ln_Y\", \"ln_L\", \"ln_K\"]\n",
    "df.head()"
   ]
  },
  {
   "cell_type": "code",
   "execution_count": null,
   "id": "00490f70-ba5f-4793-b813-b5004cddaa9d",
   "metadata": {},
   "outputs": [],
   "source": [
    "X=df[[\"ln_L\", \"ln_K\"]]\n",
    "Y = df[\"ln_Y\"]\n",
    "X = sm.add_constant(X)"
   ]
  },
  {
   "cell_type": "code",
   "execution_count": null,
   "id": "658f2d26-765c-4538-bd65-a46772427bff",
   "metadata": {},
   "outputs": [],
   "source": [
    "model = sm.OLS(Y,X).fit()"
   ]
  },
  {
   "cell_type": "code",
   "execution_count": null,
   "id": "556cd332-a3fa-4e49-a6e0-1a46bb2eee5e",
   "metadata": {},
   "outputs": [],
   "source": [
    "print(model.summary())"
   ]
  },
  {
   "cell_type": "code",
   "execution_count": null,
   "id": "c48850fd-f912-4957-a958-90884ec4ad84",
   "metadata": {},
   "outputs": [],
   "source": [
    "beta_hat = (np.linalg.inv(X.T@X))@(X.T@Y)"
   ]
  },
  {
   "cell_type": "code",
   "execution_count": null,
   "id": "f0b72e94-da13-4934-a5ca-3edbab72a4aa",
   "metadata": {},
   "outputs": [],
   "source": [
    "beta_hat"
   ]
  },
  {
   "cell_type": "code",
   "execution_count": null,
   "id": "a50e50be-3d7f-42e2-8ef1-3186191cd4eb",
   "metadata": {},
   "outputs": [],
   "source": [
    "e= Y- X@beta_hat\n"
   ]
  },
  {
   "cell_type": "code",
   "execution_count": null,
   "id": "679a9a79-7380-4b29-acd6-6a91ea618c0f",
   "metadata": {},
   "outputs": [],
   "source": [
    "n,k= X.shape\n",
    "sigma_square = e.T@e/(n-k)"
   ]
  },
  {
   "cell_type": "code",
   "execution_count": null,
   "id": "430b6adf-5eff-4310-9435-28ee2afba0c4",
   "metadata": {},
   "outputs": [],
   "source": [
    "var_beta_hat = sigma_square*np.linalg.inv(X.T@X/n)"
   ]
  },
  {
   "cell_type": "code",
   "execution_count": null,
   "id": "c8801a08-ff41-4e32-a22f-350abc6f80f8",
   "metadata": {},
   "outputs": [],
   "source": [
    "var_beta_hat"
   ]
  },
  {
   "cell_type": "code",
   "execution_count": null,
   "id": "a543da11-c4dd-4a3a-a59f-2fce5ae53bcb",
   "metadata": {},
   "outputs": [],
   "source": [
    "SE = np.sqrt(np.diag(var_beta_hat/n))\n",
    "SE"
   ]
  },
  {
   "cell_type": "code",
   "execution_count": null,
   "id": "467e3bc4-395d-4449-9975-341f9a33e4fb",
   "metadata": {},
   "outputs": [],
   "source": [
    "t_stats = beta_hat/SE"
   ]
  },
  {
   "cell_type": "code",
   "execution_count": null,
   "id": "cd307260-71fe-43e5-b350-b9fc5fa39efc",
   "metadata": {},
   "outputs": [],
   "source": [
    "t_stats"
   ]
  },
  {
   "cell_type": "code",
   "execution_count": null,
   "id": "3bf6ac9f-1b9e-4f9d-9990-d14ac8ea7266",
   "metadata": {},
   "outputs": [],
   "source": [
    "CI_lower = beta_hat[0]-1.96*SE[0]\n",
    "CI_upper = beta_hat[0]+1.96*SE[0]\n",
    "[CI_lower,CI_upper]"
   ]
  },
  {
   "cell_type": "code",
   "execution_count": null,
   "id": "47d12a1a-fca6-4c26-a62e-590b77fab3b4",
   "metadata": {},
   "outputs": [],
   "source": [
    "CI_lower = beta_hat[1]-1.96*SE[1]\n",
    "CI_upper = beta_hat[1]+1.96*SE[1]\n",
    "[CI_lower,CI_upper]\n"
   ]
  },
  {
   "cell_type": "code",
   "execution_count": null,
   "id": "f13a8b9d-afc9-4b3d-af4d-4200abc62fd5",
   "metadata": {},
   "outputs": [],
   "source": [
    "CI_lower = beta_hat[2]-1.96*SE[2]\n",
    "CI_upper = beta_hat[2]+1.96*SE[2]\n",
    "[CI_lower,CI_upper]"
   ]
  },
  {
   "cell_type": "code",
   "execution_count": null,
   "id": "5253f5b3-50eb-469b-aea6-1eb7cc43b1fd",
   "metadata": {},
   "outputs": [],
   "source": [
    "R=np.eye(k)\n",
    "q=np.zeros(k)\n",
    "w=(R@beta_hat - q).T @ np.linalg.inv(R@var_beta_hat@R.T)@(R@beta_hat-q)\n",
    "w"
   ]
  },
  {
   "cell_type": "code",
   "execution_count": null,
   "id": "69e6fa52-ff2c-4d8f-acca-57ad878fd40b",
   "metadata": {},
   "outputs": [],
   "source": [
    "import numpy as np\n",
    "R1 = np.array([[0,1,0],[0,0,1]])\n",
    "q1= np.zeros(2)\n",
    "w1= (R1@beta_hat -q1).T @np.linalg.inv(R1@var_beta_hat@R1.T)@(R1@beta_hat-q1)\n",
    "w1"
   ]
  },
  {
   "cell_type": "code",
   "execution_count": null,
   "id": "e89c82c3-38b8-4feb-9f1b-1ece2334b964",
   "metadata": {},
   "outputs": [],
   "source": [
    "R1= np.array([[0,1,0],[0,0,1]])\n",
    "q1=np.zeros(2)\n",
    "w1=(R1@beta_hat - q1).T @ np.linalg.inv(R1@var_beta_hat@R.T)@(R@beta_hat-q1)\n",
    "w1"
   ]
  },
  {
   "cell_type": "code",
   "execution_count": null,
   "id": "ee2d0210-4528-4e2f-b5da-a31cc6f41c98",
   "metadata": {},
   "outputs": [],
   "source": [
    "fig,axis = plt.subplots(1,3,figsize=(12,5))\n",
    "axes[0].hist(beta_hat[:,1])\n",
    "axes[0].set_title('dist')\n"
   ]
  },
  {
   "cell_type": "code",
   "execution_count": null,
   "id": "bfecfa8d-d30e-423b-962a-92cdbf343f41",
   "metadata": {},
   "outputs": [],
   "source": []
  }
 ],
 "metadata": {
  "kernelspec": {
   "display_name": "Python 3 (ipykernel)",
   "language": "python",
   "name": "python3"
  },
  "language_info": {
   "codemirror_mode": {
    "name": "ipython",
    "version": 3
   },
   "file_extension": ".py",
   "mimetype": "text/x-python",
   "name": "python",
   "nbconvert_exporter": "python",
   "pygments_lexer": "ipython3",
   "version": "3.12.4"
  }
 },
 "nbformat": 4,
 "nbformat_minor": 5
}
