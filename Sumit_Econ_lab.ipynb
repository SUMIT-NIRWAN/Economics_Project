{
 "cells": [
  {
   "cell_type": "code",
   "execution_count": 37,
   "id": "dce99e1a-2cc1-45a8-acfa-9474def748d9",
   "metadata": {},
   "outputs": [],
   "source": [
    "import numpy as np\n",
    "import pandas as pd\n",
    "import matplotlib.pyplot as plt\n",
    "import statsmodels.api as sm"
   ]
  },
  {
   "cell_type": "code",
   "execution_count": 100,
   "id": "11856291-17f5-49a1-a0ae-da6e17bb7f00",
   "metadata": {},
   "outputs": [
    {
     "data": {
      "text/html": [
       "<div>\n",
       "<style scoped>\n",
       "    .dataframe tbody tr th:only-of-type {\n",
       "        vertical-align: middle;\n",
       "    }\n",
       "\n",
       "    .dataframe tbody tr th {\n",
       "        vertical-align: top;\n",
       "    }\n",
       "\n",
       "    .dataframe thead th {\n",
       "        text-align: right;\n",
       "    }\n",
       "</style>\n",
       "<table border=\"1\" class=\"dataframe\">\n",
       "  <thead>\n",
       "    <tr style=\"text-align: right;\">\n",
       "      <th></th>\n",
       "      <th>inlf</th>\n",
       "      <th>hours</th>\n",
       "      <th>kidslt6</th>\n",
       "      <th>kidsge6</th>\n",
       "      <th>age</th>\n",
       "      <th>educ</th>\n",
       "      <th>wage</th>\n",
       "      <th>repwage</th>\n",
       "      <th>hushrs</th>\n",
       "      <th>husage</th>\n",
       "      <th>...</th>\n",
       "      <th>faminc</th>\n",
       "      <th>mtr</th>\n",
       "      <th>motheduc</th>\n",
       "      <th>fatheduc</th>\n",
       "      <th>unem</th>\n",
       "      <th>city</th>\n",
       "      <th>exper</th>\n",
       "      <th>nwifeinc</th>\n",
       "      <th>lwage</th>\n",
       "      <th>expersq</th>\n",
       "    </tr>\n",
       "  </thead>\n",
       "  <tbody>\n",
       "    <tr>\n",
       "      <th>0</th>\n",
       "      <td>1</td>\n",
       "      <td>1610</td>\n",
       "      <td>1</td>\n",
       "      <td>0</td>\n",
       "      <td>32</td>\n",
       "      <td>12</td>\n",
       "      <td>3.3540</td>\n",
       "      <td>2.65</td>\n",
       "      <td>2708</td>\n",
       "      <td>34</td>\n",
       "      <td>...</td>\n",
       "      <td>16310</td>\n",
       "      <td>0.7215</td>\n",
       "      <td>12</td>\n",
       "      <td>7</td>\n",
       "      <td>5.0</td>\n",
       "      <td>0</td>\n",
       "      <td>14</td>\n",
       "      <td>10.910060</td>\n",
       "      <td>1.210154</td>\n",
       "      <td>196</td>\n",
       "    </tr>\n",
       "    <tr>\n",
       "      <th>1</th>\n",
       "      <td>1</td>\n",
       "      <td>1656</td>\n",
       "      <td>0</td>\n",
       "      <td>2</td>\n",
       "      <td>30</td>\n",
       "      <td>12</td>\n",
       "      <td>1.3889</td>\n",
       "      <td>2.65</td>\n",
       "      <td>2310</td>\n",
       "      <td>30</td>\n",
       "      <td>...</td>\n",
       "      <td>21800</td>\n",
       "      <td>0.6615</td>\n",
       "      <td>7</td>\n",
       "      <td>7</td>\n",
       "      <td>11.0</td>\n",
       "      <td>1</td>\n",
       "      <td>5</td>\n",
       "      <td>19.499981</td>\n",
       "      <td>0.328512</td>\n",
       "      <td>25</td>\n",
       "    </tr>\n",
       "    <tr>\n",
       "      <th>2</th>\n",
       "      <td>1</td>\n",
       "      <td>1980</td>\n",
       "      <td>1</td>\n",
       "      <td>3</td>\n",
       "      <td>35</td>\n",
       "      <td>12</td>\n",
       "      <td>4.5455</td>\n",
       "      <td>4.04</td>\n",
       "      <td>3072</td>\n",
       "      <td>40</td>\n",
       "      <td>...</td>\n",
       "      <td>21040</td>\n",
       "      <td>0.6915</td>\n",
       "      <td>12</td>\n",
       "      <td>7</td>\n",
       "      <td>5.0</td>\n",
       "      <td>0</td>\n",
       "      <td>15</td>\n",
       "      <td>12.039910</td>\n",
       "      <td>1.514138</td>\n",
       "      <td>225</td>\n",
       "    </tr>\n",
       "    <tr>\n",
       "      <th>3</th>\n",
       "      <td>1</td>\n",
       "      <td>456</td>\n",
       "      <td>0</td>\n",
       "      <td>3</td>\n",
       "      <td>34</td>\n",
       "      <td>12</td>\n",
       "      <td>1.0965</td>\n",
       "      <td>3.25</td>\n",
       "      <td>1920</td>\n",
       "      <td>53</td>\n",
       "      <td>...</td>\n",
       "      <td>7300</td>\n",
       "      <td>0.7815</td>\n",
       "      <td>7</td>\n",
       "      <td>7</td>\n",
       "      <td>5.0</td>\n",
       "      <td>0</td>\n",
       "      <td>6</td>\n",
       "      <td>6.799996</td>\n",
       "      <td>0.092123</td>\n",
       "      <td>36</td>\n",
       "    </tr>\n",
       "    <tr>\n",
       "      <th>4</th>\n",
       "      <td>1</td>\n",
       "      <td>1568</td>\n",
       "      <td>1</td>\n",
       "      <td>2</td>\n",
       "      <td>31</td>\n",
       "      <td>14</td>\n",
       "      <td>4.5918</td>\n",
       "      <td>3.60</td>\n",
       "      <td>2000</td>\n",
       "      <td>32</td>\n",
       "      <td>...</td>\n",
       "      <td>27300</td>\n",
       "      <td>0.6215</td>\n",
       "      <td>12</td>\n",
       "      <td>14</td>\n",
       "      <td>9.5</td>\n",
       "      <td>1</td>\n",
       "      <td>7</td>\n",
       "      <td>20.100058</td>\n",
       "      <td>1.524272</td>\n",
       "      <td>49</td>\n",
       "    </tr>\n",
       "    <tr>\n",
       "      <th>5</th>\n",
       "      <td>1</td>\n",
       "      <td>2032</td>\n",
       "      <td>0</td>\n",
       "      <td>0</td>\n",
       "      <td>54</td>\n",
       "      <td>12</td>\n",
       "      <td>4.7421</td>\n",
       "      <td>4.70</td>\n",
       "      <td>1040</td>\n",
       "      <td>57</td>\n",
       "      <td>...</td>\n",
       "      <td>19495</td>\n",
       "      <td>0.6915</td>\n",
       "      <td>14</td>\n",
       "      <td>7</td>\n",
       "      <td>7.5</td>\n",
       "      <td>1</td>\n",
       "      <td>33</td>\n",
       "      <td>9.859054</td>\n",
       "      <td>1.556480</td>\n",
       "      <td>1089</td>\n",
       "    </tr>\n",
       "    <tr>\n",
       "      <th>6</th>\n",
       "      <td>1</td>\n",
       "      <td>1440</td>\n",
       "      <td>0</td>\n",
       "      <td>2</td>\n",
       "      <td>37</td>\n",
       "      <td>16</td>\n",
       "      <td>8.3333</td>\n",
       "      <td>5.95</td>\n",
       "      <td>2670</td>\n",
       "      <td>37</td>\n",
       "      <td>...</td>\n",
       "      <td>21152</td>\n",
       "      <td>0.6915</td>\n",
       "      <td>14</td>\n",
       "      <td>7</td>\n",
       "      <td>5.0</td>\n",
       "      <td>0</td>\n",
       "      <td>11</td>\n",
       "      <td>9.152048</td>\n",
       "      <td>2.120260</td>\n",
       "      <td>121</td>\n",
       "    </tr>\n",
       "    <tr>\n",
       "      <th>7</th>\n",
       "      <td>1</td>\n",
       "      <td>1020</td>\n",
       "      <td>0</td>\n",
       "      <td>0</td>\n",
       "      <td>54</td>\n",
       "      <td>12</td>\n",
       "      <td>7.8431</td>\n",
       "      <td>9.98</td>\n",
       "      <td>4120</td>\n",
       "      <td>53</td>\n",
       "      <td>...</td>\n",
       "      <td>18900</td>\n",
       "      <td>0.6915</td>\n",
       "      <td>3</td>\n",
       "      <td>3</td>\n",
       "      <td>5.0</td>\n",
       "      <td>0</td>\n",
       "      <td>35</td>\n",
       "      <td>10.900038</td>\n",
       "      <td>2.059634</td>\n",
       "      <td>1225</td>\n",
       "    </tr>\n",
       "    <tr>\n",
       "      <th>8</th>\n",
       "      <td>1</td>\n",
       "      <td>1458</td>\n",
       "      <td>0</td>\n",
       "      <td>2</td>\n",
       "      <td>48</td>\n",
       "      <td>12</td>\n",
       "      <td>2.1262</td>\n",
       "      <td>0.00</td>\n",
       "      <td>1995</td>\n",
       "      <td>52</td>\n",
       "      <td>...</td>\n",
       "      <td>20405</td>\n",
       "      <td>0.7515</td>\n",
       "      <td>7</td>\n",
       "      <td>7</td>\n",
       "      <td>3.0</td>\n",
       "      <td>0</td>\n",
       "      <td>24</td>\n",
       "      <td>17.305000</td>\n",
       "      <td>0.754336</td>\n",
       "      <td>576</td>\n",
       "    </tr>\n",
       "    <tr>\n",
       "      <th>9</th>\n",
       "      <td>1</td>\n",
       "      <td>1600</td>\n",
       "      <td>0</td>\n",
       "      <td>2</td>\n",
       "      <td>39</td>\n",
       "      <td>12</td>\n",
       "      <td>4.6875</td>\n",
       "      <td>4.15</td>\n",
       "      <td>2100</td>\n",
       "      <td>43</td>\n",
       "      <td>...</td>\n",
       "      <td>20425</td>\n",
       "      <td>0.6915</td>\n",
       "      <td>7</td>\n",
       "      <td>7</td>\n",
       "      <td>5.0</td>\n",
       "      <td>0</td>\n",
       "      <td>21</td>\n",
       "      <td>12.925000</td>\n",
       "      <td>1.544899</td>\n",
       "      <td>441</td>\n",
       "    </tr>\n",
       "    <tr>\n",
       "      <th>10</th>\n",
       "      <td>1</td>\n",
       "      <td>1969</td>\n",
       "      <td>0</td>\n",
       "      <td>1</td>\n",
       "      <td>33</td>\n",
       "      <td>12</td>\n",
       "      <td>4.0630</td>\n",
       "      <td>4.30</td>\n",
       "      <td>2450</td>\n",
       "      <td>34</td>\n",
       "      <td>...</td>\n",
       "      <td>32300</td>\n",
       "      <td>0.5815</td>\n",
       "      <td>12</td>\n",
       "      <td>3</td>\n",
       "      <td>5.0</td>\n",
       "      <td>0</td>\n",
       "      <td>15</td>\n",
       "      <td>24.299953</td>\n",
       "      <td>1.401922</td>\n",
       "      <td>225</td>\n",
       "    </tr>\n",
       "    <tr>\n",
       "      <th>11</th>\n",
       "      <td>1</td>\n",
       "      <td>1960</td>\n",
       "      <td>0</td>\n",
       "      <td>1</td>\n",
       "      <td>42</td>\n",
       "      <td>11</td>\n",
       "      <td>4.5918</td>\n",
       "      <td>4.58</td>\n",
       "      <td>2375</td>\n",
       "      <td>47</td>\n",
       "      <td>...</td>\n",
       "      <td>28700</td>\n",
       "      <td>0.6215</td>\n",
       "      <td>14</td>\n",
       "      <td>7</td>\n",
       "      <td>5.0</td>\n",
       "      <td>0</td>\n",
       "      <td>14</td>\n",
       "      <td>19.700071</td>\n",
       "      <td>1.524272</td>\n",
       "      <td>196</td>\n",
       "    </tr>\n",
       "  </tbody>\n",
       "</table>\n",
       "<p>12 rows × 22 columns</p>\n",
       "</div>"
      ],
      "text/plain": [
       "    inlf  hours  kidslt6  kidsge6  age  educ    wage  repwage  hushrs  husage  \\\n",
       "0      1   1610        1        0   32    12  3.3540     2.65    2708      34   \n",
       "1      1   1656        0        2   30    12  1.3889     2.65    2310      30   \n",
       "2      1   1980        1        3   35    12  4.5455     4.04    3072      40   \n",
       "3      1    456        0        3   34    12  1.0965     3.25    1920      53   \n",
       "4      1   1568        1        2   31    14  4.5918     3.60    2000      32   \n",
       "5      1   2032        0        0   54    12  4.7421     4.70    1040      57   \n",
       "6      1   1440        0        2   37    16  8.3333     5.95    2670      37   \n",
       "7      1   1020        0        0   54    12  7.8431     9.98    4120      53   \n",
       "8      1   1458        0        2   48    12  2.1262     0.00    1995      52   \n",
       "9      1   1600        0        2   39    12  4.6875     4.15    2100      43   \n",
       "10     1   1969        0        1   33    12  4.0630     4.30    2450      34   \n",
       "11     1   1960        0        1   42    11  4.5918     4.58    2375      47   \n",
       "\n",
       "    ...  faminc     mtr  motheduc  fatheduc  unem  city  exper   nwifeinc  \\\n",
       "0   ...   16310  0.7215        12         7   5.0     0     14  10.910060   \n",
       "1   ...   21800  0.6615         7         7  11.0     1      5  19.499981   \n",
       "2   ...   21040  0.6915        12         7   5.0     0     15  12.039910   \n",
       "3   ...    7300  0.7815         7         7   5.0     0      6   6.799996   \n",
       "4   ...   27300  0.6215        12        14   9.5     1      7  20.100058   \n",
       "5   ...   19495  0.6915        14         7   7.5     1     33   9.859054   \n",
       "6   ...   21152  0.6915        14         7   5.0     0     11   9.152048   \n",
       "7   ...   18900  0.6915         3         3   5.0     0     35  10.900038   \n",
       "8   ...   20405  0.7515         7         7   3.0     0     24  17.305000   \n",
       "9   ...   20425  0.6915         7         7   5.0     0     21  12.925000   \n",
       "10  ...   32300  0.5815        12         3   5.0     0     15  24.299953   \n",
       "11  ...   28700  0.6215        14         7   5.0     0     14  19.700071   \n",
       "\n",
       "       lwage  expersq  \n",
       "0   1.210154      196  \n",
       "1   0.328512       25  \n",
       "2   1.514138      225  \n",
       "3   0.092123       36  \n",
       "4   1.524272       49  \n",
       "5   1.556480     1089  \n",
       "6   2.120260      121  \n",
       "7   2.059634     1225  \n",
       "8   0.754336      576  \n",
       "9   1.544899      441  \n",
       "10  1.401922      225  \n",
       "11  1.524272      196  \n",
       "\n",
       "[12 rows x 22 columns]"
      ]
     },
     "execution_count": 100,
     "metadata": {},
     "output_type": "execute_result"
    }
   ],
   "source": [
    "data=pd.read_csv('MROZ.csv')\n",
    "data.head(12)"
   ]
  },
  {
   "cell_type": "code",
   "execution_count": 41,
   "id": "bd5ca646-4558-4c04-92a7-398cdc2d6af1",
   "metadata": {},
   "outputs": [
    {
     "data": {
      "text/plain": [
       "Index(['inlf', 'hours', 'kidslt6', 'kidsge6', 'age', 'educ', 'wage', 'repwage',\n",
       "       'hushrs', 'husage', 'huseduc', 'huswage', 'faminc', 'mtr', 'motheduc',\n",
       "       'fatheduc', 'unem', 'city', 'exper', 'nwifeinc', 'lwage', 'expersq'],\n",
       "      dtype='object')"
      ]
     },
     "execution_count": 41,
     "metadata": {},
     "output_type": "execute_result"
    }
   ],
   "source": [
    "data.columns"
   ]
  },
  {
   "cell_type": "code",
   "execution_count": 43,
   "id": "4f5e8420-2cde-4d65-afc3-d94b6073d807",
   "metadata": {},
   "outputs": [
    {
     "data": {
      "text/html": [
       "<div>\n",
       "<style scoped>\n",
       "    .dataframe tbody tr th:only-of-type {\n",
       "        vertical-align: middle;\n",
       "    }\n",
       "\n",
       "    .dataframe tbody tr th {\n",
       "        vertical-align: top;\n",
       "    }\n",
       "\n",
       "    .dataframe thead th {\n",
       "        text-align: right;\n",
       "    }\n",
       "</style>\n",
       "<table border=\"1\" class=\"dataframe\">\n",
       "  <thead>\n",
       "    <tr style=\"text-align: right;\">\n",
       "      <th></th>\n",
       "      <th>const</th>\n",
       "      <th>educ</th>\n",
       "      <th>exper</th>\n",
       "      <th>expersq</th>\n",
       "      <th>kidslt6</th>\n",
       "      <th>kidsge6</th>\n",
       "    </tr>\n",
       "  </thead>\n",
       "  <tbody>\n",
       "    <tr>\n",
       "      <th>0</th>\n",
       "      <td>1.0</td>\n",
       "      <td>12</td>\n",
       "      <td>14</td>\n",
       "      <td>196</td>\n",
       "      <td>1</td>\n",
       "      <td>0</td>\n",
       "    </tr>\n",
       "    <tr>\n",
       "      <th>1</th>\n",
       "      <td>1.0</td>\n",
       "      <td>12</td>\n",
       "      <td>5</td>\n",
       "      <td>25</td>\n",
       "      <td>0</td>\n",
       "      <td>2</td>\n",
       "    </tr>\n",
       "    <tr>\n",
       "      <th>2</th>\n",
       "      <td>1.0</td>\n",
       "      <td>12</td>\n",
       "      <td>15</td>\n",
       "      <td>225</td>\n",
       "      <td>1</td>\n",
       "      <td>3</td>\n",
       "    </tr>\n",
       "    <tr>\n",
       "      <th>3</th>\n",
       "      <td>1.0</td>\n",
       "      <td>12</td>\n",
       "      <td>6</td>\n",
       "      <td>36</td>\n",
       "      <td>0</td>\n",
       "      <td>3</td>\n",
       "    </tr>\n",
       "    <tr>\n",
       "      <th>4</th>\n",
       "      <td>1.0</td>\n",
       "      <td>14</td>\n",
       "      <td>7</td>\n",
       "      <td>49</td>\n",
       "      <td>1</td>\n",
       "      <td>2</td>\n",
       "    </tr>\n",
       "    <tr>\n",
       "      <th>...</th>\n",
       "      <td>...</td>\n",
       "      <td>...</td>\n",
       "      <td>...</td>\n",
       "      <td>...</td>\n",
       "      <td>...</td>\n",
       "      <td>...</td>\n",
       "    </tr>\n",
       "    <tr>\n",
       "      <th>423</th>\n",
       "      <td>1.0</td>\n",
       "      <td>10</td>\n",
       "      <td>2</td>\n",
       "      <td>4</td>\n",
       "      <td>0</td>\n",
       "      <td>5</td>\n",
       "    </tr>\n",
       "    <tr>\n",
       "      <th>424</th>\n",
       "      <td>1.0</td>\n",
       "      <td>12</td>\n",
       "      <td>21</td>\n",
       "      <td>441</td>\n",
       "      <td>0</td>\n",
       "      <td>1</td>\n",
       "    </tr>\n",
       "    <tr>\n",
       "      <th>425</th>\n",
       "      <td>1.0</td>\n",
       "      <td>13</td>\n",
       "      <td>22</td>\n",
       "      <td>484</td>\n",
       "      <td>0</td>\n",
       "      <td>2</td>\n",
       "    </tr>\n",
       "    <tr>\n",
       "      <th>426</th>\n",
       "      <td>1.0</td>\n",
       "      <td>12</td>\n",
       "      <td>14</td>\n",
       "      <td>196</td>\n",
       "      <td>0</td>\n",
       "      <td>1</td>\n",
       "    </tr>\n",
       "    <tr>\n",
       "      <th>427</th>\n",
       "      <td>1.0</td>\n",
       "      <td>12</td>\n",
       "      <td>7</td>\n",
       "      <td>49</td>\n",
       "      <td>0</td>\n",
       "      <td>1</td>\n",
       "    </tr>\n",
       "  </tbody>\n",
       "</table>\n",
       "<p>428 rows × 6 columns</p>\n",
       "</div>"
      ],
      "text/plain": [
       "     const  educ  exper  expersq  kidslt6  kidsge6\n",
       "0      1.0    12     14      196        1        0\n",
       "1      1.0    12      5       25        0        2\n",
       "2      1.0    12     15      225        1        3\n",
       "3      1.0    12      6       36        0        3\n",
       "4      1.0    14      7       49        1        2\n",
       "..     ...   ...    ...      ...      ...      ...\n",
       "423    1.0    10      2        4        0        5\n",
       "424    1.0    12     21      441        0        1\n",
       "425    1.0    13     22      484        0        2\n",
       "426    1.0    12     14      196        0        1\n",
       "427    1.0    12      7       49        0        1\n",
       "\n",
       "[428 rows x 6 columns]"
      ]
     },
     "execution_count": 43,
     "metadata": {},
     "output_type": "execute_result"
    }
   ],
   "source": [
    "#\n",
    "X=data[['educ','exper','expersq','kidslt6','kidsge6']]\n",
    "X=sm.add_constant(X)\n",
    "Y=np.log(data['wage'])\n",
    "X"
   ]
  },
  {
   "cell_type": "code",
   "execution_count": 61,
   "id": "e6d51f57-913b-4ae2-97b7-d9305d47b485",
   "metadata": {},
   "outputs": [
    {
     "data": {
      "text/plain": [
       "array([-0.48565048,  0.10796231,  0.04003412, -0.00080296, -0.05341785,\n",
       "       -0.01246959])"
      ]
     },
     "execution_count": 61,
     "metadata": {},
     "output_type": "execute_result"
    }
   ],
   "source": [
    "beta_hat=np.linalg.inv(X.T@X)@(X.T@Y)\n",
    "beta_hat"
   ]
  },
  {
   "cell_type": "code",
   "execution_count": 108,
   "id": "b21be06a-c977-4935-bb86-acf1e61b194a",
   "metadata": {},
   "outputs": [
    {
     "data": {
      "text/plain": [
       "0      0.050576\n",
       "1     -0.636543\n",
       "2      0.375221\n",
       "3     -0.891663\n",
       "4      0.335913\n",
       "         ...   \n",
       "423    0.229545\n",
       "424    0.384817\n",
       "425    0.384389\n",
       "426    0.025923\n",
       "427    0.368168\n",
       "Length: 428, dtype: float64"
      ]
     },
     "execution_count": 108,
     "metadata": {},
     "output_type": "execute_result"
    }
   ],
   "source": [
    "n=len(Y)\n",
    "k=6\n",
    "e=Y-X@beta_hat\n",
    "e"
   ]
  },
  {
   "cell_type": "code",
   "execution_count": 110,
   "id": "446ef85f-4152-4b93-9cc5-e978570014d2",
   "metadata": {},
   "outputs": [
    {
     "data": {
      "text/plain": [
       "0.445549427563927"
      ]
     },
     "execution_count": 110,
     "metadata": {},
     "output_type": "execute_result"
    }
   ],
   "source": [
    "sig_square=(e.T@e)/(n-k)\n",
    "sig_square"
   ]
  },
  {
   "cell_type": "code",
   "execution_count": 79,
   "id": "62d06c40-55fb-4f13-b0f6-b0a02fffee30",
   "metadata": {},
   "outputs": [
    {
     "data": {
      "text/plain": [
       "array([[ 1.95353723e+01, -1.11533434e+00, -4.70138272e-01,\n",
       "         1.00192118e-02,  8.93940870e-02, -8.92880301e-01],\n",
       "       [-1.11533434e+00,  8.84867957e-02, -4.59783869e-03,\n",
       "         1.72189091e-04, -6.95579285e-02,  1.81192725e-02],\n",
       "       [-4.70138272e-01, -4.59783869e-03,  7.63452197e-02,\n",
       "        -2.12609839e-03,  3.88572028e-02,  1.96891989e-02],\n",
       "       [ 1.00192118e-02,  1.72189091e-04, -2.12609839e-03,\n",
       "         6.64595561e-05, -4.25630835e-04, -1.47115779e-05],\n",
       "       [ 8.93940870e-02, -6.95579285e-02,  3.88572028e-02,\n",
       "        -4.25630835e-04,  3.06842926e+00, -3.38510148e-02],\n",
       "       [-8.92880301e-01,  1.81192725e-02,  1.96891989e-02,\n",
       "        -1.47115779e-05, -3.38510148e-02,  3.07311084e-01]])"
      ]
     },
     "execution_count": 79,
     "metadata": {},
     "output_type": "execute_result"
    }
   ],
   "source": [
    "var=sig_square*np.linalg.inv((X.T@X)/n)\n",
    "var"
   ]
  },
  {
   "cell_type": "code",
   "execution_count": 81,
   "id": "ae8ec6be-f4bf-4e5b-93cf-75b938213ae9",
   "metadata": {},
   "outputs": [
    {
     "name": "stdout",
     "output_type": "stream",
     "text": [
      "Standard errors of beta coefficients: \n",
      "[0.21364314 0.01437862 0.01335577 0.00039405 0.08467129 0.02679583]\n"
     ]
    }
   ],
   "source": [
    "std_err=np.sqrt(np.diag(var)/n)\n",
    "print('Standard errors of beta coefficients: ')\n",
    "print(std_err)"
   ]
  },
  {
   "cell_type": "code",
   "execution_count": 140,
   "id": "af03b948-5a1f-4f66-9a58-8e727df3ee59",
   "metadata": {},
   "outputs": [
    {
     "data": {
      "text/html": [
       "<div>\n",
       "<style scoped>\n",
       "    .dataframe tbody tr th:only-of-type {\n",
       "        vertical-align: middle;\n",
       "    }\n",
       "\n",
       "    .dataframe tbody tr th {\n",
       "        vertical-align: top;\n",
       "    }\n",
       "\n",
       "    .dataframe thead th {\n",
       "        text-align: right;\n",
       "    }\n",
       "</style>\n",
       "<table border=\"1\" class=\"dataframe\">\n",
       "  <thead>\n",
       "    <tr style=\"text-align: right;\">\n",
       "      <th></th>\n",
       "      <th>const</th>\n",
       "      <th>exper</th>\n",
       "      <th>expersq</th>\n",
       "      <th>kidslt6</th>\n",
       "      <th>kidsge6</th>\n",
       "      <th>motheduc</th>\n",
       "      <th>fatheduc</th>\n",
       "    </tr>\n",
       "  </thead>\n",
       "  <tbody>\n",
       "    <tr>\n",
       "      <th>0</th>\n",
       "      <td>1.0</td>\n",
       "      <td>14</td>\n",
       "      <td>196</td>\n",
       "      <td>1</td>\n",
       "      <td>0</td>\n",
       "      <td>12</td>\n",
       "      <td>7</td>\n",
       "    </tr>\n",
       "    <tr>\n",
       "      <th>1</th>\n",
       "      <td>1.0</td>\n",
       "      <td>5</td>\n",
       "      <td>25</td>\n",
       "      <td>0</td>\n",
       "      <td>2</td>\n",
       "      <td>7</td>\n",
       "      <td>7</td>\n",
       "    </tr>\n",
       "    <tr>\n",
       "      <th>2</th>\n",
       "      <td>1.0</td>\n",
       "      <td>15</td>\n",
       "      <td>225</td>\n",
       "      <td>1</td>\n",
       "      <td>3</td>\n",
       "      <td>12</td>\n",
       "      <td>7</td>\n",
       "    </tr>\n",
       "    <tr>\n",
       "      <th>3</th>\n",
       "      <td>1.0</td>\n",
       "      <td>6</td>\n",
       "      <td>36</td>\n",
       "      <td>0</td>\n",
       "      <td>3</td>\n",
       "      <td>7</td>\n",
       "      <td>7</td>\n",
       "    </tr>\n",
       "    <tr>\n",
       "      <th>4</th>\n",
       "      <td>1.0</td>\n",
       "      <td>7</td>\n",
       "      <td>49</td>\n",
       "      <td>1</td>\n",
       "      <td>2</td>\n",
       "      <td>12</td>\n",
       "      <td>14</td>\n",
       "    </tr>\n",
       "    <tr>\n",
       "      <th>...</th>\n",
       "      <td>...</td>\n",
       "      <td>...</td>\n",
       "      <td>...</td>\n",
       "      <td>...</td>\n",
       "      <td>...</td>\n",
       "      <td>...</td>\n",
       "      <td>...</td>\n",
       "    </tr>\n",
       "    <tr>\n",
       "      <th>423</th>\n",
       "      <td>1.0</td>\n",
       "      <td>2</td>\n",
       "      <td>4</td>\n",
       "      <td>0</td>\n",
       "      <td>5</td>\n",
       "      <td>7</td>\n",
       "      <td>7</td>\n",
       "    </tr>\n",
       "    <tr>\n",
       "      <th>424</th>\n",
       "      <td>1.0</td>\n",
       "      <td>21</td>\n",
       "      <td>441</td>\n",
       "      <td>0</td>\n",
       "      <td>1</td>\n",
       "      <td>7</td>\n",
       "      <td>7</td>\n",
       "    </tr>\n",
       "    <tr>\n",
       "      <th>425</th>\n",
       "      <td>1.0</td>\n",
       "      <td>22</td>\n",
       "      <td>484</td>\n",
       "      <td>0</td>\n",
       "      <td>2</td>\n",
       "      <td>7</td>\n",
       "      <td>7</td>\n",
       "    </tr>\n",
       "    <tr>\n",
       "      <th>426</th>\n",
       "      <td>1.0</td>\n",
       "      <td>14</td>\n",
       "      <td>196</td>\n",
       "      <td>0</td>\n",
       "      <td>1</td>\n",
       "      <td>12</td>\n",
       "      <td>16</td>\n",
       "    </tr>\n",
       "    <tr>\n",
       "      <th>427</th>\n",
       "      <td>1.0</td>\n",
       "      <td>7</td>\n",
       "      <td>49</td>\n",
       "      <td>0</td>\n",
       "      <td>1</td>\n",
       "      <td>12</td>\n",
       "      <td>12</td>\n",
       "    </tr>\n",
       "  </tbody>\n",
       "</table>\n",
       "<p>428 rows × 7 columns</p>\n",
       "</div>"
      ],
      "text/plain": [
       "     const  exper  expersq  kidslt6  kidsge6  motheduc  fatheduc\n",
       "0      1.0     14      196        1        0        12         7\n",
       "1      1.0      5       25        0        2         7         7\n",
       "2      1.0     15      225        1        3        12         7\n",
       "3      1.0      6       36        0        3         7         7\n",
       "4      1.0      7       49        1        2        12        14\n",
       "..     ...    ...      ...      ...      ...       ...       ...\n",
       "423    1.0      2        4        0        5         7         7\n",
       "424    1.0     21      441        0        1         7         7\n",
       "425    1.0     22      484        0        2         7         7\n",
       "426    1.0     14      196        0        1        12        16\n",
       "427    1.0      7       49        0        1        12        12\n",
       "\n",
       "[428 rows x 7 columns]"
      ]
     },
     "execution_count": 140,
     "metadata": {},
     "output_type": "execute_result"
    }
   ],
   "source": [
    "#Stage I\n",
    "\n",
    "Y1=data['educ']\n",
    "X1=data[['exper','expersq','kidslt6','kidsge6','motheduc','fatheduc']]\n",
    "X1=sm.add_constant(X1)\n",
    "X1"
   ]
  },
  {
   "cell_type": "code",
   "execution_count": 142,
   "id": "e2aa7ca1-0d51-4772-a006-24368346a3c8",
   "metadata": {},
   "outputs": [
    {
     "data": {
      "text/plain": [
       "array([ 9.32486193e+00,  4.29398398e-02, -1.06809389e-03,  6.52589952e-01,\n",
       "       -1.52581236e-01,  1.60245239e-01,  1.79623914e-01])"
      ]
     },
     "execution_count": 142,
     "metadata": {},
     "output_type": "execute_result"
    }
   ],
   "source": [
    "beta2_hat=np.linalg.inv(X1.T@X1)@(X1.T@Y1)\n",
    "beta2_hat"
   ]
  },
  {
   "cell_type": "code",
   "execution_count": 114,
   "id": "ed9f713d-f407-4619-b881-f5857ac5cad7",
   "metadata": {},
   "outputs": [
    {
     "data": {
      "text/plain": [
       "0     -1.549574\n",
       "1      0.413220\n",
       "2     -1.103795\n",
       "3      0.534610\n",
       "4     -0.358209\n",
       "         ...   \n",
       "423   -1.022647\n",
       "424    0.017928\n",
       "425    1.173497\n",
       "426   -2.361018\n",
       "427   -1.498953\n",
       "Length: 428, dtype: float64"
      ]
     },
     "execution_count": 114,
     "metadata": {},
     "output_type": "execute_result"
    }
   ],
   "source": [
    "n=len(Y1)\n",
    "k1=7\n",
    "e2=Y1-X1@beta2_hat\n",
    "e2"
   ]
  },
  {
   "cell_type": "code",
   "execution_count": 144,
   "id": "3dd63f6b-9927-4126-a1d4-841cbf9c0378",
   "metadata": {},
   "outputs": [
    {
     "data": {
      "text/plain": [
       "4.081248737210448"
      ]
     },
     "execution_count": 144,
     "metadata": {},
     "output_type": "execute_result"
    }
   ],
   "source": [
    "s2=(e2.T@e2)/(n-k1)\n",
    "s2"
   ]
  },
  {
   "cell_type": "code",
   "execution_count": 146,
   "id": "59490857-b001-4514-9fcd-83b66497fe20",
   "metadata": {},
   "outputs": [
    {
     "data": {
      "text/plain": [
       "array([[ 9.34867524e+01, -4.71352504e+00,  1.00194792e-01,\n",
       "        -5.46479304e+00, -6.67068907e+00, -2.47025083e+00,\n",
       "        -2.02359688e+00],\n",
       "       [-4.71352504e+00,  6.97560802e-01, -1.94239599e-02,\n",
       "         3.27584191e-01,  1.88895263e-01, -1.23876709e-02,\n",
       "        -5.33162699e-04],\n",
       "       [ 1.00194792e-01, -1.94239599e-02,  6.08791796e-04,\n",
       "        -3.12800752e-03, -2.58441380e-04,  5.03294027e-04,\n",
       "         6.83713180e-04],\n",
       "       [-5.46479304e+00,  3.27584191e-01, -3.12800752e-03,\n",
       "         2.76773537e+01, -2.08505564e-01, -8.17063811e-02,\n",
       "        -9.93198987e-02],\n",
       "       [-6.67068907e+00,  1.88895263e-01, -2.58441380e-04,\n",
       "        -2.08505564e-01,  2.82464589e+00, -8.68444338e-02,\n",
       "         1.45714781e-01],\n",
       "       [-2.47025083e+00, -1.23876709e-02,  5.03294027e-04,\n",
       "        -8.17063811e-02, -8.68444338e-02,  5.44281569e-01,\n",
       "        -2.82279887e-01],\n",
       "       [-2.02359688e+00, -5.33162699e-04,  6.83713180e-04,\n",
       "        -9.93198987e-02,  1.45714781e-01, -2.82279887e-01,\n",
       "         4.86574141e-01]])"
      ]
     },
     "execution_count": 146,
     "metadata": {},
     "output_type": "execute_result"
    }
   ],
   "source": [
    "var1=s2*np.linalg.inv((X1.T@X1)/n)\n",
    "var1"
   ]
  },
  {
   "cell_type": "code",
   "execution_count": 148,
   "id": "2f08d1da-809e-4164-a75f-20f3280fd7d6",
   "metadata": {},
   "outputs": [
    {
     "name": "stdout",
     "output_type": "stream",
     "text": [
      "Standard errors of alpha coefficients: \n",
      "[0.46736174 0.04037097 0.00119265 0.25429651 0.08123817 0.03566071\n",
      " 0.03371729]\n"
     ]
    }
   ],
   "source": [
    "#\n",
    "std_err1=np.sqrt(np.diag(var1)/n)\n",
    "print('Standard errors of alpha coefficients: ')\n",
    "print(std_err1)"
   ]
  },
  {
   "cell_type": "code",
   "execution_count": 150,
   "id": "1be483c4-9167-41e7-8519-cbe977e7c3fa",
   "metadata": {},
   "outputs": [
    {
     "data": {
      "text/plain": [
       "0.11348881268704"
      ]
     },
     "execution_count": 150,
     "metadata": {},
     "output_type": "execute_result"
    }
   ],
   "source": [
    "#H0: alpha5=0, alpha6=0\n",
    "#wald statistic\n",
    "\n",
    "R=np.array([[0,0,0,0,0,1,0],[0,0,0,0,0,0,1]])\n",
    "q=np.zeros(2)\n",
    "w=(R@beta2_hat-q).T@np.linalg.inv(R@np.diag(np.diag(var1))@R.T)@(R@beta2_hat-q)\n",
    "w"
   ]
  },
  {
   "cell_type": "code",
   "execution_count": 21,
   "id": "efd626ef-0f21-49d7-9976-1473c9164fab",
   "metadata": {},
   "outputs": [],
   "source": [
    "#wald statistic is small hai tooh ham wald static ko accept karenge "
   ]
  },
  {
   "cell_type": "code",
   "execution_count": 152,
   "id": "008ca5a6-6b07-4602-b073-d3a4381a10c8",
   "metadata": {},
   "outputs": [
    {
     "data": {
      "text/plain": [
       "0    13.549574\n",
       "1    11.586780\n",
       "2    13.103795\n",
       "3    11.465390\n",
       "4    14.358209\n",
       "dtype: float64"
      ]
     },
     "execution_count": 152,
     "metadata": {},
     "output_type": "execute_result"
    }
   ],
   "source": [
    "#Stage II\n",
    "\n",
    "educ_fitted=X1@beta2_hat\n",
    "educ_fitted.head()"
   ]
  },
  {
   "cell_type": "code",
   "execution_count": 154,
   "id": "91bea631-60fe-4802-be0e-b801fa13ebe3",
   "metadata": {},
   "outputs": [
    {
     "name": "stderr",
     "output_type": "stream",
     "text": [
      "C:\\Users\\sumit\\AppData\\Local\\Temp\\ipykernel_44616\\2191203303.py:2: SettingWithCopyWarning: \n",
      "A value is trying to be set on a copy of a slice from a DataFrame.\n",
      "Try using .loc[row_indexer,col_indexer] = value instead\n",
      "\n",
      "See the caveats in the documentation: https://pandas.pydata.org/pandas-docs/stable/user_guide/indexing.html#returning-a-view-versus-a-copy\n",
      "  Xnew['educ_fitted']=educ_fitted\n"
     ]
    },
    {
     "data": {
      "text/html": [
       "<div>\n",
       "<style scoped>\n",
       "    .dataframe tbody tr th:only-of-type {\n",
       "        vertical-align: middle;\n",
       "    }\n",
       "\n",
       "    .dataframe tbody tr th {\n",
       "        vertical-align: top;\n",
       "    }\n",
       "\n",
       "    .dataframe thead th {\n",
       "        text-align: right;\n",
       "    }\n",
       "</style>\n",
       "<table border=\"1\" class=\"dataframe\">\n",
       "  <thead>\n",
       "    <tr style=\"text-align: right;\">\n",
       "      <th></th>\n",
       "      <th>const</th>\n",
       "      <th>educ_fitted</th>\n",
       "      <th>exper</th>\n",
       "      <th>expersq</th>\n",
       "      <th>kidslt6</th>\n",
       "      <th>kidsge6</th>\n",
       "    </tr>\n",
       "  </thead>\n",
       "  <tbody>\n",
       "    <tr>\n",
       "      <th>0</th>\n",
       "      <td>1.0</td>\n",
       "      <td>13.549574</td>\n",
       "      <td>14</td>\n",
       "      <td>196</td>\n",
       "      <td>1</td>\n",
       "      <td>0</td>\n",
       "    </tr>\n",
       "    <tr>\n",
       "      <th>1</th>\n",
       "      <td>1.0</td>\n",
       "      <td>11.586780</td>\n",
       "      <td>5</td>\n",
       "      <td>25</td>\n",
       "      <td>0</td>\n",
       "      <td>2</td>\n",
       "    </tr>\n",
       "    <tr>\n",
       "      <th>2</th>\n",
       "      <td>1.0</td>\n",
       "      <td>13.103795</td>\n",
       "      <td>15</td>\n",
       "      <td>225</td>\n",
       "      <td>1</td>\n",
       "      <td>3</td>\n",
       "    </tr>\n",
       "    <tr>\n",
       "      <th>3</th>\n",
       "      <td>1.0</td>\n",
       "      <td>11.465390</td>\n",
       "      <td>6</td>\n",
       "      <td>36</td>\n",
       "      <td>0</td>\n",
       "      <td>3</td>\n",
       "    </tr>\n",
       "    <tr>\n",
       "      <th>4</th>\n",
       "      <td>1.0</td>\n",
       "      <td>14.358209</td>\n",
       "      <td>7</td>\n",
       "      <td>49</td>\n",
       "      <td>1</td>\n",
       "      <td>2</td>\n",
       "    </tr>\n",
       "    <tr>\n",
       "      <th>...</th>\n",
       "      <td>...</td>\n",
       "      <td>...</td>\n",
       "      <td>...</td>\n",
       "      <td>...</td>\n",
       "      <td>...</td>\n",
       "      <td>...</td>\n",
       "    </tr>\n",
       "    <tr>\n",
       "      <th>423</th>\n",
       "      <td>1.0</td>\n",
       "      <td>11.022647</td>\n",
       "      <td>2</td>\n",
       "      <td>4</td>\n",
       "      <td>0</td>\n",
       "      <td>5</td>\n",
       "    </tr>\n",
       "    <tr>\n",
       "      <th>424</th>\n",
       "      <td>1.0</td>\n",
       "      <td>11.982072</td>\n",
       "      <td>21</td>\n",
       "      <td>441</td>\n",
       "      <td>0</td>\n",
       "      <td>1</td>\n",
       "    </tr>\n",
       "    <tr>\n",
       "      <th>425</th>\n",
       "      <td>1.0</td>\n",
       "      <td>11.826503</td>\n",
       "      <td>22</td>\n",
       "      <td>484</td>\n",
       "      <td>0</td>\n",
       "      <td>2</td>\n",
       "    </tr>\n",
       "    <tr>\n",
       "      <th>426</th>\n",
       "      <td>1.0</td>\n",
       "      <td>14.361018</td>\n",
       "      <td>14</td>\n",
       "      <td>196</td>\n",
       "      <td>0</td>\n",
       "      <td>1</td>\n",
       "    </tr>\n",
       "    <tr>\n",
       "      <th>427</th>\n",
       "      <td>1.0</td>\n",
       "      <td>13.498953</td>\n",
       "      <td>7</td>\n",
       "      <td>49</td>\n",
       "      <td>0</td>\n",
       "      <td>1</td>\n",
       "    </tr>\n",
       "  </tbody>\n",
       "</table>\n",
       "<p>428 rows × 6 columns</p>\n",
       "</div>"
      ],
      "text/plain": [
       "     const  educ_fitted  exper  expersq  kidslt6  kidsge6\n",
       "0      1.0    13.549574     14      196        1        0\n",
       "1      1.0    11.586780      5       25        0        2\n",
       "2      1.0    13.103795     15      225        1        3\n",
       "3      1.0    11.465390      6       36        0        3\n",
       "4      1.0    14.358209      7       49        1        2\n",
       "..     ...          ...    ...      ...      ...      ...\n",
       "423    1.0    11.022647      2        4        0        5\n",
       "424    1.0    11.982072     21      441        0        1\n",
       "425    1.0    11.826503     22      484        0        2\n",
       "426    1.0    14.361018     14      196        0        1\n",
       "427    1.0    13.498953      7       49        0        1\n",
       "\n",
       "[428 rows x 6 columns]"
      ]
     },
     "execution_count": 154,
     "metadata": {},
     "output_type": "execute_result"
    }
   ],
   "source": [
    "Xnew=data[['exper','expersq','kidslt6','kidsge6']]\n",
    "Xnew['educ_fitted']=educ_fitted\n",
    "Xnew=Xnew[['educ_fitted','exper','expersq','kidslt6','kidsge6']]\n",
    "Xnew=sm.add_constant(Xnew)\n",
    "Xnew"
   ]
  },
  {
   "cell_type": "code",
   "execution_count": 156,
   "id": "5e95a390-256b-4f8e-80d4-5aa63ad5cee5",
   "metadata": {},
   "outputs": [
    {
     "data": {
      "text/plain": [
       "array([ 0.12246335,  0.05971665,  0.042541  , -0.00089684, -0.01549278,\n",
       "       -0.02234876])"
      ]
     },
     "execution_count": 156,
     "metadata": {},
     "output_type": "execute_result"
    }
   ],
   "source": [
    "b=np.linalg.inv(Xnew.T@Xnew)@(Xnew.T@Y)\n",
    "b"
   ]
  },
  {
   "cell_type": "code",
   "execution_count": 158,
   "id": "1e5273ba-e32c-40c0-9e82-5501ead92866",
   "metadata": {},
   "outputs": [
    {
     "data": {
      "text/plain": [
       "0     -0.125745\n",
       "1     -0.631461\n",
       "2      0.255373\n",
       "3     -0.870928\n",
       "4      0.350733\n",
       "         ...   \n",
       "423    0.087577\n",
       "424    0.355359\n",
       "425    0.483592\n",
       "426   -0.151051\n",
       "427    0.246420\n",
       "Length: 428, dtype: float64"
      ]
     },
     "execution_count": 158,
     "metadata": {},
     "output_type": "execute_result"
    }
   ],
   "source": [
    "n=len(Y)\n",
    "k=6\n",
    "ep=Y-Xnew@b\n",
    "ep"
   ]
  },
  {
   "cell_type": "code",
   "execution_count": 130,
   "id": "99a47030-1bae-4806-9b2a-1b9f38255586",
   "metadata": {},
   "outputs": [
    {
     "data": {
      "text/plain": [
       "0.5013818836135346"
      ]
     },
     "execution_count": 130,
     "metadata": {},
     "output_type": "execute_result"
    }
   ],
   "source": [
    "s_2=(ep.T@ep)/(n-k)\n",
    "s_2"
   ]
  },
  {
   "cell_type": "code",
   "execution_count": 132,
   "id": "f7c9aec4-c90c-4ab8-a87b-1bae04321f4b",
   "metadata": {},
   "outputs": [
    {
     "data": {
      "text/plain": [
       "array([[ 8.42039497e+01, -6.19146493e+00, -2.72554780e-01,\n",
       "         1.66891171e-03,  3.98098781e+00, -2.01557879e+00],\n",
       "       [-6.19146493e+00,  4.91209560e-01, -2.55236084e-02,\n",
       "         9.55859310e-04, -3.86131277e-01,  1.00584045e-01],\n",
       "       [-2.72554780e-01, -2.55236084e-02,  8.69695323e-02,\n",
       "        -2.43212183e-03,  5.97229284e-02,  1.79895311e-02],\n",
       "       [ 1.66891171e-03,  9.55859310e-04, -2.43212183e-03,\n",
       "         7.62706805e-05, -1.07803525e-03,  1.39497214e-04],\n",
       "       [ 3.98098781e+00, -3.86131277e-01,  5.97229284e-02,\n",
       "        -1.07803525e-03,  3.69493964e+00, -1.01132215e-01],\n",
       "       [-2.01557879e+00,  1.00584045e-01,  1.79895311e-02,\n",
       "         1.39497214e-04, -1.01132215e-01,  3.62241907e-01]])"
      ]
     },
     "execution_count": 132,
     "metadata": {},
     "output_type": "execute_result"
    }
   ],
   "source": [
    "var2=s_2*np.linalg.inv((Xnew.T@Xnew)/n)\n",
    "var2"
   ]
  },
  {
   "cell_type": "code",
   "execution_count": 134,
   "id": "32d6dbf6-67d8-41ac-8bc0-00ad17a6b4c9",
   "metadata": {},
   "outputs": [
    {
     "name": "stdout",
     "output_type": "stream",
     "text": [
      "Standard errors of new beta coefficients: \n",
      "[4.43551801e-01 3.38775130e-02 1.42548182e-02 4.22140409e-04\n",
      " 9.29141353e-02 2.90922601e-02]\n"
     ]
    }
   ],
   "source": [
    "#\n",
    "s_err=np.sqrt(np.diag(var2)/n)\n",
    "print('Standard errors of new beta coefficients: ')\n",
    "print(s_err)"
   ]
  },
  {
   "cell_type": "code",
   "execution_count": 138,
   "id": "b5de2b3e-7cbc-43e6-87f8-dbe55d62950d",
   "metadata": {},
   "outputs": [
    {
     "data": {
      "text/plain": [
       "0.07602478170010905"
      ]
     },
     "execution_count": 138,
     "metadata": {},
     "output_type": "execute_result"
    }
   ],
   "source": [
    "#\n",
    "#H0: education is exogenous\n",
    "#H1: education is endogenous\n",
    "\n",
    "H=(beta[1]-b[1])/np.sqrt(var2[1,1]-var[1,1])\n",
    "H\n",
    "#Since |H|<1.96, null hypothesis ko accept karenge tooh education is exogenous hogi."
   ]
  },
  {
   "cell_type": "code",
   "execution_count": 33,
   "id": "21e0ac0c-14bc-460d-a8c6-9fdbaa80368d",
   "metadata": {},
   "outputs": [],
   "source": []
  },
  {
   "cell_type": "code",
   "execution_count": null,
   "id": "40c275b4-ee35-47ed-a301-165a94ec84a5",
   "metadata": {},
   "outputs": [],
   "source": []
  }
 ],
 "metadata": {
  "kernelspec": {
   "display_name": "Python 3 (ipykernel)",
   "language": "python",
   "name": "python3"
  },
  "language_info": {
   "codemirror_mode": {
    "name": "ipython",
    "version": 3
   },
   "file_extension": ".py",
   "mimetype": "text/x-python",
   "name": "python",
   "nbconvert_exporter": "python",
   "pygments_lexer": "ipython3",
   "version": "3.12.4"
  }
 },
 "nbformat": 4,
 "nbformat_minor": 5
}
